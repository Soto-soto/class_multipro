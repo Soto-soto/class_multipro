{
 "cells": [
  {
   "cell_type": "code",
   "execution_count": 1,
   "metadata": {},
   "outputs": [],
   "source": [
    "import pandas as pd\n",
    "from time import time\n",
    "from joblib import Parallel, delayed\n",
    "import numpy as np"
   ]
  },
  {
   "cell_type": "code",
   "execution_count": 2,
   "metadata": {},
   "outputs": [],
   "source": [
    "def merge_sort(aList):\n",
    "    if len(aList) <= 1:\n",
    "        return aList\n",
    "\n",
    "    mid = len(aList) // 2\n",
    "    left = aList[:mid]\n",
    "    right = aList[mid:]\n",
    "\n",
    "    left = merge_sort(left)\n",
    "    right = merge_sort(right)\n",
    "\n",
    "    return list(merge(left, right))\n",
    "\n",
    "\n",
    "def merge(left, right):\n",
    "    sorted_list = []\n",
    "    left_index = 0\n",
    "    right_index = 0\n",
    "\n",
    "    while left_index < len(left) and right_index < len(right):\n",
    "        if left[left_index] <= right[right_index]:\n",
    "            sorted_list.append(left[left_index])\n",
    "            left_index += 1\n",
    "        else:\n",
    "            sorted_list.append(right[right_index])\n",
    "            right_index += 1\n",
    "\n",
    "    if left:\n",
    "        sorted_list.extend(left[left_index:])\n",
    "    if right:\n",
    "        sorted_list.extend(right[right_index:])\n",
    "\n",
    "    return sorted_list"
   ]
  },
  {
   "cell_type": "code",
   "execution_count": 3,
   "metadata": {},
   "outputs": [],
   "source": [
    "## dataをn分割するやつ\n",
    "def split_data(data,n):\n",
    "    result=[]\n",
    "    num=int(len(data)/n)\n",
    "    for i in range(1,n):\n",
    "        begin=num*(i-1)\n",
    "        end=num*i\n",
    "        result.append(data[begin:end])\n",
    "    # 奇数用\n",
    "    result.append(data[num*n:])\n",
    "    return result"
   ]
  },
  {
   "cell_type": "code",
   "execution_count": 4,
   "metadata": {},
   "outputs": [],
   "source": [
    "# i個のデータをマージする\n",
    "def marge_data(data):\n",
    "    num=len(data)/2\n",
    "    result=data\n",
    "    if (np.array(result).shape[0]==1):\n",
    "        return result\n",
    "    \n",
    "    \n",
    "    while(num!=1):\n",
    "        dum=result\n",
    "        result=[]\n",
    "        num=len(dum)/2\n",
    "        if (len(dum)%2!=0):\n",
    "            dum.append([])\n",
    "        for i in range(len(dum))[0::2]:\n",
    "            result.append(merge(dum[i], dum[i+1]))\n",
    "    return result[0]\n"
   ]
  },
  {
   "cell_type": "code",
   "execution_count": 5,
   "metadata": {},
   "outputs": [],
   "source": [
    "datas=pd.read_csv(\"Parallel.txt\",  header=None)\n",
    "datas=list(datas[0])"
   ]
  },
  {
   "cell_type": "code",
   "execution_count": 6,
   "metadata": {},
   "outputs": [
    {
     "name": "stdout",
     "output_type": "stream",
     "text": [
      "6.908527135848999秒かかりました\n",
      "5.742426872253418秒かかりました\n",
      "6.554734945297241秒かかりました\n",
      "6.663113832473755秒かかりました\n",
      "6.967310190200806秒かかりました\n",
      "7.082596063613892秒かかりました\n",
      "7.219666242599487秒かかりました\n",
      "7.379925966262817秒かかりました\n",
      "7.685576915740967秒かかりました\n",
      "7.577967166900635秒かかりました\n",
      "7.668995141983032秒かかりました\n",
      "7.729481935501099秒かかりました\n",
      "7.863260984420776秒かかりました\n",
      "7.86079216003418秒かかりました\n",
      "7.832675933837891秒かかりました\n",
      "8.306071996688843秒かかりました\n",
      "8.313846826553345秒かかりました\n",
      "8.220852136611938秒かかりました\n",
      "8.07944107055664秒かかりました\n"
     ]
    }
   ],
   "source": [
    "result_time=[]\n",
    "for i in range(2,21):\n",
    "    start = time()\n",
    "    data = split_data(datas,i)\n",
    "\n",
    "    r = Parallel(n_jobs=i)( [delayed(merge_sort)(j) for j in data])\n",
    "\n",
    "    \n",
    "    marge_data(r)\n",
    "    stop=float(time() - start)\n",
    "    result_time.append(stop)\n",
    "    print('{}秒かかりました'.format(stop))"
   ]
  },
  {
   "cell_type": "code",
   "execution_count": 10,
   "metadata": {},
   "outputs": [],
   "source": [
    "result=[10.500969171524048,6.23]+result_time"
   ]
  },
  {
   "cell_type": "code",
   "execution_count": 11,
   "metadata": {},
   "outputs": [
    {
     "data": {
      "image/png": "[encoded data removed]",
      "text/plain": [
       "<Figure size 432x288 with 1 Axes>"
      ]
     },
     "metadata": {
      "needs_background": "light"
     },
     "output_type": "display_data"
    }
   ],
   "source": [
    "from matplotlib import pyplot as plt\n",
    "plt.rcParams['font.family'] = 'Osaka'\n",
    "fig = plt.figure()\n",
    "ax = fig.add_subplot(111)\n",
    "plt.plot(result)\n",
    "plt.title(\"スレッド数と実行時間の関係\")\n",
    "plt.xlabel(\"スレッド数(個)\")\n",
    "plt.ylabel(\"実行時間(秒)\")\n",
    "ax.set_xticks([0,5,10,15,20])\n",
    "plt.grid(which='major',color='black',linestyle='-')"
   ]
  },
  {
   "cell_type": "code",
   "execution_count": null,
   "metadata": {},
   "outputs": [],
   "source": []
  },
  {
   "cell_type": "code",
   "execution_count": null,
   "metadata": {},
   "outputs": [],
   "source": []
  }
 ],
 "metadata": {
  "kernelspec": {
   "display_name": "Python 3",
   "language": "python",
   "name": "python3"
  },
  "language_info": {
   "codemirror_mode": {
    "name": "ipython",
    "version": 3
   },
   "file_extension": ".py",
   "mimetype": "text/x-python",
   "name": "python",
   "nbconvert_exporter": "python",
   "pygments_lexer": "ipython3",
   "version": "3.6.4"
  }
 },
 "nbformat": 4,
 "nbformat_minor": 2
}
